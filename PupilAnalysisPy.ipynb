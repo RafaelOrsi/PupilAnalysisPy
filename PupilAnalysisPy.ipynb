{
 "cells": [
  {
   "cell_type": "markdown",
   "metadata": {},
   "source": [
    "# PupilAnalysisPy\n",
    "## Algoritmo para processamento de Sinal Pupilar\n",
    "#### Este algoritmo serve serve para:\n",
    "- Fazer o tratamento e preprocessamento do sinal\n",
    "    - Remover células vazias\n",
    "    - Calcular perda de sinal\n",
    "    - Reconstruir intervalos de perda de sinal\n",
    "    - Remover outliers\n",
    "    - Suaviar o sinal\n",
    "- Estruturar base de dados para análise\n",
    "    - Organizar os dados por entrada (sujeito)\n",
    "    - Determinar o comprimento do sinal\n",
    "- Gerar relatórios estatísticos\n",
    "- Gerar gráficos com resultados das análises"
   ]
  },
  {
   "cell_type": "code",
   "execution_count": 41,
   "metadata": {},
   "outputs": [],
   "source": [
    "## Passo 1: Instalar e importar as bibliotecas necessárias\n",
    "# Remova o comentário das linhas abaixo para instalar as bibliotecas\n",
    "#!pip install pandas\n",
    "#!pip install matplotlib\n",
    "import pandas as pd\n",
    "import matplotlib.pyplot as plt"
   ]
  },
  {
   "cell_type": "markdown",
   "metadata": {},
   "source": [
    "### Exportar dados do Tobii Studio e Importar para o Python\n",
    "#### Considerações importantes antes de exportar a base de dados do Tobii\n",
    "- O equipamento Tobii Tx300 possui taxa de aquisição de 300Hz\n",
    "- O Tobii Studio exporta até 86 variáveis\n",
    "- Experimento longos ou com muitos voluntários pode gerar bases de dados muito grandes\n",
    "    - Por exemplo, um experimento de 5 minutos realizado com 50 participantes irá gerar uma matriz com 4.500.000 de linhas (5 minutos X 60 segundos X 50 participantes X 300Hz = 4.500.000) \n",
    "    - Neste exemplo, ao exportar todas as variáveis possíveis será obtida uma matriz de [4500000x86] e isso irá gerar algumas dificuldades desnecessárias ao carregar a base de dados em outros programas. Então para otimizar o processo, evite exportar variáveis que não irá utilizar. \n",
    "- Variáveis essencialmente necessárias para este script:\n",
    "    - ParticipantName\n",
    "    - MediaName\n",
    "    - PupilLeft\n",
    "    - PupilRight"
   ]
  },
  {
   "cell_type": "code",
   "execution_count": 39,
   "metadata": {},
   "outputs": [
    {
     "name": "stderr",
     "output_type": "stream",
     "text": [
      "C:\\Users\\rafae\\anaconda3\\lib\\site-packages\\IPython\\core\\interactiveshell.py:3444: DtypeWarning: Columns (2) have mixed types.Specify dtype option on import or set low_memory=False.\n",
      "  exec(code_obj, self.user_global_ns, self.user_ns)\n"
     ]
    }
   ],
   "source": [
    "## Passo 2: Importar a base de dados\n",
    "# Insira o caminho onde a base de dados exportada foi armazenada \n",
    "# Coloque a letra r antes do caminho para evitar erro de interpretação da contrabarra \\\n",
    "df = pd.read_csv(r\"C:\\Users\\rafae\\Desktop\\DOC\\EscalasDor_Data_Export.tsv\", sep=\"\\t\") # lê arquivo\n",
    "# Provavelmente aparecerá uma mensagem de alerta \"DtypeWarning\" por haver mais de um tipo de dado na mesma coluna, \n",
    "# esse problema será tratado nas etapas 4 e 5."
   ]
  },
  {
   "cell_type": "code",
   "execution_count": 42,
   "metadata": {},
   "outputs": [
    {
     "name": "stdout",
     "output_type": "stream",
     "text": [
      "<class 'pandas.core.frame.DataFrame'>\n",
      "RangeIndex: 15270651 entries, 0 to 15270650\n",
      "Data columns (total 13 columns):\n",
      " #   Column                     Dtype  \n",
      "---  ------                     -----  \n",
      " 0   ParticipantName            object \n",
      " 1   RecordingName              object \n",
      " 2   MediaName                  object \n",
      " 3   LocalTimeStamp             object \n",
      " 4   FixationIndex              float64\n",
      " 5   GazeEventDuration          float64\n",
      " 6   FixationPointX (MCSpx)     float64\n",
      " 7   FixationPointY (MCSpx)     float64\n",
      " 8   SaccadicAmplitude          object \n",
      " 9   AbsoluteSaccadicDirection  object \n",
      " 10  PupilLeft                  object \n",
      " 11  PupilRight                 object \n",
      " 12  Unnamed: 12                float64\n",
      "dtypes: float64(5), object(8)\n",
      "memory usage: 1.5+ GB\n",
      "None\n",
      "Amostras pupila esquerda: 13627438\n",
      "Amostras pupila direita: 13664868\n"
     ]
    }
   ],
   "source": [
    "## Passo 3: Visualizar o resumo dos dados importados\n",
    "# Verifique se é necessário excluir o converter o tipo de alguma variável\n",
    "print(df.info())\n",
    "# Verifique qual em qual pupila houve a maior perda de sinal\n",
    "print(\"Amostras pupila esquerda:\",df.PupilLeft.count())\n",
    "print(\"Amostras pupila direita:\",df.PupilRight.count())"
   ]
  },
  {
   "cell_type": "code",
   "execution_count": 43,
   "metadata": {},
   "outputs": [
    {
     "name": "stdout",
     "output_type": "stream",
     "text": [
      "<class 'pandas.core.frame.DataFrame'>\n",
      "RangeIndex: 15270651 entries, 0 to 15270650\n",
      "Data columns (total 3 columns):\n",
      " #   Column           Dtype \n",
      "---  ------           ----- \n",
      " 0   ParticipantName  object\n",
      " 1   MediaName        object\n",
      " 2   Pupil            object\n",
      "dtypes: object(3)\n",
      "memory usage: 349.5+ MB\n",
      "None\n"
     ]
    }
   ],
   "source": [
    "## Passo 4: Limpar  base de dados\n",
    "# Excluir colunas que não for utilizar  \n",
    "list_drop_col = [\"RecordingName\",\"LocalTimeStamp\",\"FixationIndex\",\n",
    "                 \"GazeEventDuration\",\"FixationPointX (MCSpx)\",\"FixationPointY (MCSpx)\",\n",
    "                 \"SaccadicAmplitude\",\"AbsoluteSaccadicDirection\",\"Unnamed: 12\"]\n",
    "df = df.drop(list_drop_col, axis = 1) # axis = 0 -> linha, axis = 1 -> coluna\n",
    "# Excluir Pupila com maior perda de sinal\n",
    "df = df.drop(\"PupilLeft\", axis = 1) # axis = 0 -> linha, axis = 1 -> coluna\n",
    "# Renomeie a Pupila com menor perda de sinal para Pupil\n",
    "df.columns = ['ParticipantName','MediaName','Pupil']\n",
    "# Excluir linhas com algum valor vazio (NaN)\n",
    "df = df.dropna(how=\"any\" , axis=0) # any = exclui linha/coluna que ALGUM valor na\n",
    "print(df.info())"
   ]
  },
  {
   "cell_type": "code",
   "execution_count": 44,
   "metadata": {},
   "outputs": [
    {
     "name": "stdout",
     "output_type": "stream",
     "text": [
      "<class 'pandas.core.frame.DataFrame'>\n",
      "RangeIndex: 15270651 entries, 0 to 15270650\n",
      "Data columns (total 3 columns):\n",
      " #   Column           Dtype  \n",
      "---  ------           -----  \n",
      " 0   ParticipantName  object \n",
      " 1   MediaName        object \n",
      " 2   Pupil            float64\n",
      "dtypes: float64(1), object(2)\n",
      "memory usage: 349.5+ MB\n",
      "None\n"
     ]
    },
    {
     "data": {
      "text/html": [
       "<div>\n",
       "<style scoped>\n",
       "    .dataframe tbody tr th:only-of-type {\n",
       "        vertical-align: middle;\n",
       "    }\n",
       "\n",
       "    .dataframe tbody tr th {\n",
       "        vertical-align: top;\n",
       "    }\n",
       "\n",
       "    .dataframe thead th {\n",
       "        text-align: right;\n",
       "    }\n",
       "</style>\n",
       "<table border=\"1\" class=\"dataframe\">\n",
       "  <thead>\n",
       "    <tr style=\"text-align: right;\">\n",
       "      <th></th>\n",
       "      <th>ParticipantName</th>\n",
       "      <th>MediaName</th>\n",
       "      <th>Pupil</th>\n",
       "    </tr>\n",
       "  </thead>\n",
       "  <tbody>\n",
       "    <tr>\n",
       "      <th>0</th>\n",
       "      <td>P10</td>\n",
       "      <td>NaN</td>\n",
       "      <td>4.48</td>\n",
       "    </tr>\n",
       "    <tr>\n",
       "      <th>1</th>\n",
       "      <td>P10</td>\n",
       "      <td>NaN</td>\n",
       "      <td>4.51</td>\n",
       "    </tr>\n",
       "    <tr>\n",
       "      <th>2</th>\n",
       "      <td>P10</td>\n",
       "      <td>NaN</td>\n",
       "      <td>4.52</td>\n",
       "    </tr>\n",
       "    <tr>\n",
       "      <th>3</th>\n",
       "      <td>P10</td>\n",
       "      <td>NaN</td>\n",
       "      <td>4.51</td>\n",
       "    </tr>\n",
       "    <tr>\n",
       "      <th>4</th>\n",
       "      <td>P10</td>\n",
       "      <td>NaN</td>\n",
       "      <td>4.50</td>\n",
       "    </tr>\n",
       "    <tr>\n",
       "      <th>...</th>\n",
       "      <td>...</td>\n",
       "      <td>...</td>\n",
       "      <td>...</td>\n",
       "    </tr>\n",
       "    <tr>\n",
       "      <th>15270646</th>\n",
       "      <td>P166</td>\n",
       "      <td>NaN</td>\n",
       "      <td>NaN</td>\n",
       "    </tr>\n",
       "    <tr>\n",
       "      <th>15270647</th>\n",
       "      <td>P166</td>\n",
       "      <td>NaN</td>\n",
       "      <td>NaN</td>\n",
       "    </tr>\n",
       "    <tr>\n",
       "      <th>15270648</th>\n",
       "      <td>P166</td>\n",
       "      <td>NaN</td>\n",
       "      <td>NaN</td>\n",
       "    </tr>\n",
       "    <tr>\n",
       "      <th>15270649</th>\n",
       "      <td>P166</td>\n",
       "      <td>NaN</td>\n",
       "      <td>NaN</td>\n",
       "    </tr>\n",
       "    <tr>\n",
       "      <th>15270650</th>\n",
       "      <td>P166</td>\n",
       "      <td>NaN</td>\n",
       "      <td>NaN</td>\n",
       "    </tr>\n",
       "  </tbody>\n",
       "</table>\n",
       "<p>15270651 rows × 3 columns</p>\n",
       "</div>"
      ],
      "text/plain": [
       "         ParticipantName MediaName  Pupil\n",
       "0                    P10       NaN   4.48\n",
       "1                    P10       NaN   4.51\n",
       "2                    P10       NaN   4.52\n",
       "3                    P10       NaN   4.51\n",
       "4                    P10       NaN   4.50\n",
       "...                  ...       ...    ...\n",
       "15270646            P166       NaN    NaN\n",
       "15270647            P166       NaN    NaN\n",
       "15270648            P166       NaN    NaN\n",
       "15270649            P166       NaN    NaN\n",
       "15270650            P166       NaN    NaN\n",
       "\n",
       "[15270651 rows x 3 columns]"
      ]
     },
     "metadata": {},
     "output_type": "display_data"
    }
   ],
   "source": [
    "## Passo 5: Corrigir tipo e formato de dados -> Dtype\n",
    "df[\"Pupil\"] = df[\"Pupil\"].replace(\",\",\".\", regex=True) # substitui vírgula por ponto, usa o parâmetro regex para aplicar no df \n",
    "df[\"Pupil\"] = pd.to_numeric(df[\"Pupil\"]) # Converte o tipo de dados para numérico (Float)\n",
    "print(df.info())\n",
    "display(df)"
   ]
  },
  {
   "cell_type": "code",
   "execution_count": 51,
   "metadata": {},
   "outputs": [
    {
     "data": {
      "text/plain": [
       "[<matplotlib.lines.Line2D at 0x232acc278e0>]"
      ]
     },
     "execution_count": 51,
     "metadata": {},
     "output_type": "execute_result"
    },
    {
     "data": {
      "image/png": "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\n",
      "text/plain": [
       "<Figure size 1080x432 with 1 Axes>"
      ]
     },
     "metadata": {
      "needs_background": "light"
     },
     "output_type": "display_data"
    }
   ],
   "source": [
    "plt.figure(figsize=(15,6))\n",
    "plt.plot(df[\"ParticipantName\"]==\"P25\",df[\"Pupil\"])"
   ]
  },
  {
   "cell_type": "code",
   "execution_count": 46,
   "metadata": {},
   "outputs": [
    {
     "name": "stdout",
     "output_type": "stream",
     "text": [
      "['P10', 'P11', 'P12', 'P13', 'P14', 'S001', 'P15', 'P16', 'P17', 'P18', 'P19', 'P20', 'P21', 'P22', 'P23', 'P24', 'P25', 'P26', 'P27', 'P28', 'P29', 'P30', 'P31', 'P32', 'P33', 'P34', 'P35', 'P36', 'P37', 'P38', 'P39', 'P40', 'P41', 'P42', 'P43', 'P44', 'P45', 'P46', 'P47', 'P48', 'P49', 'P50', 'P51', 'P52', 'P53', 'P54', 'P55', 'P56', 'P57', 'P58', 'P59', 'P60', 'P61', 'P62', 'P63', 'P64', 'P65', 'P66', 'P67', 'P68', 'P69', 'P70', 'P71', 'P72', 'P73', 'P74', 'P75', 'P76', 'P77', 'P78', 'P79', 'P80', 'P81', 'P82', 'P83', 'P84', 'P85', 'P86', 'P87', 'P88', 'P89', 'P90', 'P91', 'P92', 'P93', 'P94', 'P95', 'P96', 'P97', 'P98', 'P99', 'P100', 'P101', 'P102', 'P103', 'P104', 'P105', 'P106', 'P107', 'P108', 'P109', 'P110', 'P111', 'P112', 'P113', 'P114', 'P115', 'P116', 'P117', 'P118', 'P119', 'P120', 'P121', 'P122', 'P123', 'P124', 'P125', 'P126', 'P127', 'P128', 'P129', 'P130', 'P131', 'P132', 'P133', 'P134', 'P135', 'P136', 'P137', 'P138', 'P139', 'P140', 'P141', 'P142', 'P143', 'P144', 'P145', 'P146', 'P147', 'P148', 'P149', 'P150', 'P151', 'P152', 'P153', 'P154', 'P155', 'P156', 'P157', 'P158', 'P159', 'P160', 'P161', 'P162', 'P163', 'P164', 'P165', 'P166']\n"
     ]
    }
   ],
   "source": [
    
